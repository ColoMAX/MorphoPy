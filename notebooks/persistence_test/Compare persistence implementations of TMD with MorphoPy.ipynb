{
 "cells": [
  {
   "cell_type": "markdown",
   "metadata": {},
   "source": [
    "# Comparing the original TMD with MorphoPy\n",
    "\n",
    "This notebook will show exemplarily that MorphoPy's implementation of https://github.com/BlueBrain/TMD gives identical results to the original."
   ]
  },
  {
   "cell_type": "markdown",
   "metadata": {},
   "source": [
    "The original software is written in Python2.7, thus, it cannot be integrated into this notebook. To reproduce the data used here run a TMD in a virtual environment:\n",
    "\n",
    "```bash\n",
    "virtualenv test_tmd\n",
    "source ./test_tmd/bin/activate\n",
    "git clone https://github.com/BlueBrain/TMD\n",
    "pip install ./TMD\n",
    "```\n",
    "and convert the reconstructions found in `persistence_test/data/` to persistence diagrams run \n",
    "\n",
    "``` python2 .create_persistence_diagrams_using_tmd.py ```\n",
    "\n",
    "Please note: \n",
    "If several soma points are present in a reconstruction, MorphoPy's default behavior is to collapse them all into their center of mass. This can lead to differences between the TMD original package, which represents soma points and neurites separately. If you want to remove the soma's influence on the computed feature please refer to the `get_neurites()` method."
   ]
  },
  {
   "cell_type": "code",
   "execution_count": 10,
   "metadata": {},
   "outputs": [],
   "source": [
    "import os\n",
    "import pandas as pd\n",
    "import numpy as np\n",
    "import copy \n",
    "\n",
    "# To delete when installation works\n",
    "import sys\n",
    "sys.path.append(\"../../\")\n",
    "\n",
    "import morphopy.neurontree.NeuronTree as nt\n",
    "from morphopy.neurontree.utils import get_standardized_swc\n",
    "import morphopy.computation.feature_presentation as fp\n",
    "\n",
    "import matplotlib.pyplot as plt\n",
    "import seaborn as sns"
   ]
  },
  {
   "cell_type": "code",
   "execution_count": 11,
   "metadata": {},
   "outputs": [
    {
     "ename": "NameError",
     "evalue": "name 'nx_version' is not defined",
     "output_type": "error",
     "traceback": [
      "\u001b[0;31m---------------------------------------------------------------------------\u001b[0m",
      "\u001b[0;31mNameError\u001b[0m                                 Traceback (most recent call last)",
      "\u001b[0;32m<ipython-input-11-f62066958ba7>\u001b[0m in \u001b[0;36m<module>\u001b[0;34m\u001b[0m\n\u001b[1;32m      1\u001b[0m \u001b[0;32mimport\u001b[0m \u001b[0mnetworkx\u001b[0m \u001b[0;32mas\u001b[0m \u001b[0mnx\u001b[0m\u001b[0;34m\u001b[0m\u001b[0m\n\u001b[1;32m      2\u001b[0m \u001b[0;34m\u001b[0m\u001b[0m\n\u001b[0;32m----> 3\u001b[0;31m \u001b[0mnx_version\u001b[0m \u001b[0;34m==\u001b[0m \u001b[0mnx\u001b[0m\u001b[0;34m.\u001b[0m\u001b[0m__version__\u001b[0m\u001b[0;34m\u001b[0m\u001b[0m\n\u001b[0m\u001b[1;32m      4\u001b[0m \u001b[0;31m# A selection of filter functions\u001b[0m\u001b[0;34m\u001b[0m\u001b[0;34m\u001b[0m\u001b[0m\n\u001b[1;32m      5\u001b[0m \u001b[0;32mdef\u001b[0m \u001b[0mradial_distance\u001b[0m\u001b[0;34m(\u001b[0m\u001b[0mG\u001b[0m\u001b[0;34m,\u001b[0m \u001b[0mu\u001b[0m\u001b[0;34m,\u001b[0m \u001b[0mv\u001b[0m\u001b[0;34m)\u001b[0m\u001b[0;34m:\u001b[0m\u001b[0;34m\u001b[0m\u001b[0m\n",
      "\u001b[0;31mNameError\u001b[0m: name 'nx_version' is not defined"
     ]
    }
   ],
   "source": [
    "import networkx as nx\n",
    "\n",
    "nx_version == nx.__version__\n",
    "# A selection of filter functions\n",
    "def radial_distance(G, u, v):\n",
    "    if nx_version > 1:\n",
    "        # changed for version 2.x of networkX\n",
    "        n = G.nodes[u]['pos']\n",
    "        r = G.nodes[v]['pos']\n",
    "    else:\n",
    "        n = G.node[u]['pos']\n",
    "        r = G.node[v]['pos']\n",
    "\n",
    "    return np.sqrt(np.dot(n - r, n - r))\n",
    "\n",
    "def height(G, u, v):\n",
    "    if nx_version > 1:\n",
    "        # changed for version 2.x of networkX\n",
    "        n = G.nodes[u]['pos']\n",
    "        r = G.nodes[v]['pos']\n",
    "    else:\n",
    "        n = G.node[u]['pos']\n",
    "        r = G.node[v]['pos']\n",
    "        \n",
    "    return np.abs((n - r))[2]\n",
    "\n",
    "def projection(G,u,v):\n",
    "    if nx_version > 1:\n",
    "        # changed for version 2.x of networkX\n",
    "        r = G.nodes[u]['pos']\n",
    "        p = G.nodes[v]['pos']\n",
    "    else:\n",
    "        r = G.node[u]['pos']\n",
    "        p = G.node[v]['pos']\n",
    "        \n",
    "    n = np.array([0,1,0])\n",
    "    return np.dot(r-p,n)\n",
    "\n",
    "import networkx as nx\n",
    "\n",
    "def path_length(G, u, v):\n",
    "    return nx.shortest_path_length(G, v, u, weight='path_length')\n",
    "\n",
    "def branch_order(G,u,v):\n",
    "    \n",
    "    if u == v:\n",
    "        bo = 0\n",
    "    else:\n",
    "        path = nx.shortest_path(G, v, u)\n",
    "        path.remove(u)\n",
    "        bo = np.sum(np.array(list(nx.degree(G, path).values())) > 2)\n",
    "    return bo"
   ]
  },
  {
   "cell_type": "code",
   "execution_count": 3,
   "metadata": {},
   "outputs": [],
   "source": [
    "root, _ , files = list(os.walk(\"./data/\"))[0]\n",
    "features = [radial_distance, path_length, projection, branch_order]"
   ]
  },
  {
   "cell_type": "code",
   "execution_count": 4,
   "metadata": {},
   "outputs": [
    {
     "name": "stdout",
     "output_type": "stream",
     "text": [
      "There are more than 3 soma points. The location and the radius of the soma is estimated based on its convex hull...\n"
     ]
    },
    {
     "name": "stderr",
     "output_type": "stream",
     "text": [
      "/usr/local/lib/python3.5/dist-packages/pandas/core/frame.py:6701: FutureWarning: Sorting because non-concatenation axis is not aligned. A future version\n",
      "of pandas will change to not sort by default.\n",
      "\n",
      "To accept the future behavior, pass 'sort=False'.\n",
      "\n",
      "To retain the current behavior and silence the warning, pass 'sort=True'.\n",
      "\n",
      "  sort=sort)\n"
     ]
    },
    {
     "name": "stdout",
     "output_type": "stream",
     "text": [
      "There are 2-3 soma points. The location and the radius of the soma is estimated based on their mean.\n"
     ]
    }
   ],
   "source": [
    "trees = []\n",
    "for file in files:\n",
    "    swc = pd.read_csv(\"./data/\"+file,delim_whitespace=True, comment='#',\n",
    "                              names=['n', 'type', 'x', 'y', 'z', 'radius', 'parent'], index_col=False)\n",
    "    swc = get_standardized_swc(swc, pca_rot=False)\n",
    "    N = nt.NeuronTree(swc)\n",
    "    \n",
    "    trees.append(N)"
   ]
  },
  {
   "cell_type": "code",
   "execution_count": 5,
   "metadata": {},
   "outputs": [
    {
     "data": {
      "text/plain": [
       "<matplotlib.text.Text at 0x7f60724c9438>"
      ]
     },
     "execution_count": 5,
     "metadata": {},
     "output_type": "execute_result"
    },
    {
     "data": {
      "image/png": "[encoded data removed]",
      "text/plain": [
       "<matplotlib.figure.Figure at 0x7f6074dcef98>"
      ]
     },
     "metadata": {
      "needs_background": "light"
     },
     "output_type": "display_data"
    }
   ],
   "source": [
    "# Draw one of the investigated neurons\n",
    "\n",
    "N.draw_2D(projection='xz')\n",
    "sns.despine()\n",
    "plt.xlabel('x')\n",
    "plt.ylabel('z')"
   ]
  },
  {
   "cell_type": "code",
   "execution_count": 6,
   "metadata": {},
   "outputs": [
    {
     "data": {
      "text/plain": [
       "['eNGC-j140908b_cell1.swc',\n",
       " 'test_neuron.swc',\n",
       " 'C010398B-P2.CNG.swc',\n",
       " 'C4.swc',\n",
       " 'ds_1_cell_390.swc']"
      ]
     },
     "execution_count": 6,
     "metadata": {},
     "output_type": "execute_result"
    }
   ],
   "source": [
    "files"
   ]
  },
  {
   "cell_type": "code",
   "execution_count": 7,
   "metadata": {},
   "outputs": [
    {
     "ename": "NameError",
     "evalue": "name 'nx_version' is not defined",
     "output_type": "error",
     "traceback": [
      "\u001b[0;31m---------------------------------------------------------------------------\u001b[0m",
      "\u001b[0;31mNameError\u001b[0m                                 Traceback (most recent call last)",
      "\u001b[0;32m<ipython-input-7-d3b2ab5b5c40>\u001b[0m in \u001b[0;36m<module>\u001b[0;34m\u001b[0m\n\u001b[1;32m     10\u001b[0m         \u001b[0mdf\u001b[0m \u001b[0;34m=\u001b[0m \u001b[0mpd\u001b[0m\u001b[0;34m.\u001b[0m\u001b[0mDataFrame\u001b[0m\u001b[0;34m(\u001b[0m\u001b[0;34m)\u001b[0m\u001b[0;34m\u001b[0m\u001b[0m\n\u001b[1;32m     11\u001b[0m         \u001b[0;32mfor\u001b[0m \u001b[0mn\u001b[0m \u001b[0;32min\u001b[0m \u001b[0mneurites\u001b[0m\u001b[0;34m:\u001b[0m\u001b[0;34m\u001b[0m\u001b[0m\n\u001b[0;32m---> 12\u001b[0;31m             \u001b[0mdf\u001b[0m \u001b[0;34m=\u001b[0m \u001b[0mdf\u001b[0m\u001b[0;34m.\u001b[0m\u001b[0mappend\u001b[0m\u001b[0;34m(\u001b[0m\u001b[0mfp\u001b[0m\u001b[0;34m.\u001b[0m\u001b[0mget_persistence\u001b[0m\u001b[0;34m(\u001b[0m\u001b[0mn\u001b[0m\u001b[0;34m,\u001b[0m \u001b[0mf\u001b[0m\u001b[0;34m=\u001b[0m\u001b[0mfeature\u001b[0m\u001b[0;34m)\u001b[0m\u001b[0;34m)\u001b[0m\u001b[0;34m\u001b[0m\u001b[0m\n\u001b[0m\u001b[1;32m     13\u001b[0m \u001b[0;34m\u001b[0m\u001b[0m\n\u001b[1;32m     14\u001b[0m         \u001b[0mp\u001b[0m\u001b[0;34m[\u001b[0m\u001b[0mfeature\u001b[0m\u001b[0;34m.\u001b[0m\u001b[0m__name__\u001b[0m\u001b[0;34m]\u001b[0m \u001b[0;34m=\u001b[0m \u001b[0mcopy\u001b[0m\u001b[0;34m.\u001b[0m\u001b[0mcopy\u001b[0m\u001b[0;34m(\u001b[0m\u001b[0mdf\u001b[0m\u001b[0;34m)\u001b[0m\u001b[0;34m\u001b[0m\u001b[0m\n",
      "\u001b[0;32m~/Projects/MorphoPy/morphopy/computation/feature_presentation.py\u001b[0m in \u001b[0;36mget_persistence\u001b[0;34m(neurontree, f)\u001b[0m\n\u001b[1;32m     37\u001b[0m     \u001b[0;31m# set the initial value for leaf nodes\u001b[0m\u001b[0;34m\u001b[0m\u001b[0;34m\u001b[0m\u001b[0m\n\u001b[1;32m     38\u001b[0m     \u001b[0;32mfor\u001b[0m \u001b[0ml\u001b[0m \u001b[0;32min\u001b[0m \u001b[0mL\u001b[0m\u001b[0;34m:\u001b[0m\u001b[0;34m\u001b[0m\u001b[0m\n\u001b[0;32m---> 39\u001b[0;31m         \u001b[0mv\u001b[0m\u001b[0;34m[\u001b[0m\u001b[0ml\u001b[0m\u001b[0;34m]\u001b[0m \u001b[0;34m=\u001b[0m \u001b[0mf\u001b[0m\u001b[0;34m(\u001b[0m\u001b[0mG\u001b[0m\u001b[0;34m,\u001b[0m \u001b[0ml\u001b[0m\u001b[0;34m,\u001b[0m \u001b[0mR\u001b[0m\u001b[0;34m)\u001b[0m\u001b[0;34m\u001b[0m\u001b[0m\n\u001b[0m\u001b[1;32m     40\u001b[0m \u001b[0;34m\u001b[0m\u001b[0m\n\u001b[1;32m     41\u001b[0m     \u001b[0;32mwhile\u001b[0m \u001b[0mR\u001b[0m \u001b[0;32mnot\u001b[0m \u001b[0;32min\u001b[0m \u001b[0mA\u001b[0m\u001b[0;34m:\u001b[0m\u001b[0;34m\u001b[0m\u001b[0m\n",
      "\u001b[0;32m<ipython-input-2-2240f36e0610>\u001b[0m in \u001b[0;36mradial_distance\u001b[0;34m(G, u, v)\u001b[0m\n\u001b[1;32m      1\u001b[0m \u001b[0;31m# A selection of filter functions\u001b[0m\u001b[0;34m\u001b[0m\u001b[0;34m\u001b[0m\u001b[0m\n\u001b[1;32m      2\u001b[0m \u001b[0;32mdef\u001b[0m \u001b[0mradial_distance\u001b[0m\u001b[0;34m(\u001b[0m\u001b[0mG\u001b[0m\u001b[0;34m,\u001b[0m \u001b[0mu\u001b[0m\u001b[0;34m,\u001b[0m \u001b[0mv\u001b[0m\u001b[0;34m)\u001b[0m\u001b[0;34m:\u001b[0m\u001b[0;34m\u001b[0m\u001b[0m\n\u001b[0;32m----> 3\u001b[0;31m     \u001b[0;32mif\u001b[0m \u001b[0mnx_version\u001b[0m \u001b[0;34m>\u001b[0m \u001b[0;36m1\u001b[0m\u001b[0;34m:\u001b[0m\u001b[0;34m\u001b[0m\u001b[0m\n\u001b[0m\u001b[1;32m      4\u001b[0m         \u001b[0;31m# changed for version 2.x of networkX\u001b[0m\u001b[0;34m\u001b[0m\u001b[0;34m\u001b[0m\u001b[0m\n\u001b[1;32m      5\u001b[0m         \u001b[0mn\u001b[0m \u001b[0;34m=\u001b[0m \u001b[0mG\u001b[0m\u001b[0;34m.\u001b[0m\u001b[0mnodes\u001b[0m\u001b[0;34m[\u001b[0m\u001b[0mu\u001b[0m\u001b[0;34m]\u001b[0m\u001b[0;34m[\u001b[0m\u001b[0;34m'pos'\u001b[0m\u001b[0;34m]\u001b[0m\u001b[0;34m\u001b[0m\u001b[0m\n",
      "\u001b[0;31mNameError\u001b[0m: name 'nx_version' is not defined"
     ]
    }
   ],
   "source": [
    "\n",
    "persistence_diagrams = []\n",
    "for N in trees:\n",
    "    \n",
    "    #since TMD works without the soma only get neurites\n",
    "    neurites = N.get_neurites(soma_included=False)\n",
    "    \n",
    "    p = dict()\n",
    "    for feature in features:\n",
    "        df = pd.DataFrame()\n",
    "        for n in neurites: \n",
    "            df = df.append(fp.get_persistence(n, f=feature))\n",
    "        \n",
    "        p[feature.__name__] = copy.copy(df)\n",
    "    persistence_diagrams.append(p)"
   ]
  },
  {
   "cell_type": "code",
   "execution_count": null,
   "metadata": {},
   "outputs": [],
   "source": [
    "# Draw the persistence results for TMD and MorphoPy\n",
    "\n",
    "for ix in range(len(files)):\n",
    "   \n",
    "    test_neuron = files[ix]\n",
    "    tmd_files = [s%test_neuron.split(\".\")[0] for s in ['%s_radial_distances.txt', '%s_path_distances.txt',\n",
    "                 '%s_projection.txt', '%s_section_branch_orders.txt']]\n",
    "\n",
    "    k = 0\n",
    "    plt.figure(figsize=(20,5))\n",
    "\n",
    "    for tmd_file in tmd_files:\n",
    "        df = pd.read_csv(\"./diagrams/\" + tmd_file, header=None, sep=\" \")\n",
    "\n",
    "        f = features[k]\n",
    "        A = df\n",
    "        B = persistence_diagrams[ix][f.__name__]\n",
    "\n",
    "        plt.subplot(1,4,k+1)\n",
    "        plt.scatter(np.round(A[0],2), np.round(A[1],2), marker='s', c='blue', label='TMD')\n",
    "\n",
    "        plt.scatter(np.round(B['birth'],2),np.round(B['death'],2),marker='.', c='orange', label='MorphoPy')\n",
    "\n",
    "\n",
    "        sns.despine()\n",
    "        plt.title(f.__name__)\n",
    "        plt.xlabel('birth')\n",
    "        plt.ylabel('death')\n",
    "\n",
    "        if k == 0:\n",
    "            plt.legend()\n",
    "\n",
    "        k +=1\n",
    "    plt.suptitle(files[ix], weight='bold')\n"
   ]
  }
 ],
 "metadata": {
  "kernelspec": {
   "display_name": "Python 3",
   "language": "python",
   "name": "python3"
  },
  "language_info": {
   "codemirror_mode": {
    "name": "ipython",
    "version": 3
   },
   "file_extension": ".py",
   "mimetype": "text/x-python",
   "name": "python",
   "nbconvert_exporter": "python",
   "pygments_lexer": "ipython3",
   "version": "3.5.2"
  },
  "varInspector": {
   "cols": {
    "lenName": 16,
    "lenType": 16,
    "lenVar": 40
   },
   "kernels_config": {
    "python": {
     "delete_cmd_postfix": "",
     "delete_cmd_prefix": "del ",
     "library": "var_list.py",
     "varRefreshCmd": "print(var_dic_list())"
    },
    "r": {
     "delete_cmd_postfix": ") ",
     "delete_cmd_prefix": "rm(",
     "library": "var_list.r",
     "varRefreshCmd": "cat(var_dic_list()) "
    }
   },
   "types_to_exclude": [
    "module",
    "function",
    "builtin_function_or_method",
    "instance",
    "_Feature"
   ],
   "window_display": false
  }
 },
 "nbformat": 4,
 "nbformat_minor": 2
}
